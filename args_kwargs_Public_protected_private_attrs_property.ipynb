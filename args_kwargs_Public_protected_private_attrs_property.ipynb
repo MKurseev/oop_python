{
 "cells": [
  {
   "cell_type": "markdown",
   "id": "3f8912d6",
   "metadata": {},
   "source": [
    "### Что такое `*args` `**kwargs`"
   ]
  },
  {
   "cell_type": "code",
   "execution_count": 12,
   "id": "9128e412",
   "metadata": {},
   "outputs": [
    {
     "data": {
      "text/plain": [
       "(1, [2, 3, True, 'hello', 56], -23)"
      ]
     },
     "execution_count": 12,
     "metadata": {},
     "output_type": "execute_result"
    }
   ],
   "source": [
    "a, *b, c = [1,2,3,True, 'hello', 56, -23]\n",
    "a, b, c"
   ]
  },
  {
   "cell_type": "code",
   "execution_count": 13,
   "id": "0ba3bfa3",
   "metadata": {},
   "outputs": [
    {
     "data": {
      "text/plain": [
       "([1, 2, 3, True, 'hello'], 56, -23)"
      ]
     },
     "execution_count": 13,
     "metadata": {},
     "output_type": "execute_result"
    }
   ],
   "source": [
    "*a, b, c = [1,2,3,True, 'hello', 56, -23]\n",
    "a, b, c"
   ]
  },
  {
   "cell_type": "code",
   "execution_count": 16,
   "id": "b2731e17",
   "metadata": {},
   "outputs": [
    {
     "name": "stdout",
     "output_type": "stream",
     "text": [
      "1 2 3 4\n"
     ]
    }
   ],
   "source": [
    "def f(a,b,c,d):\n",
    "    print(a,b,c,d)\n",
    "    \n",
    "a = (1,2,3,4)\n",
    "\n",
    "#f(a) # выведет ошибку\n",
    "f(*a) "
   ]
  },
  {
   "cell_type": "markdown",
   "id": "d53462b2",
   "metadata": {},
   "source": [
    "звездочка упоковывает в кардеж"
   ]
  },
  {
   "cell_type": "code",
   "execution_count": 17,
   "id": "344b5be0",
   "metadata": {},
   "outputs": [
    {
     "name": "stdout",
     "output_type": "stream",
     "text": [
      "(1, 2, 3, 4, 5, 6, 7)\n",
      "(1, 2, 3)\n",
      "()\n"
     ]
    }
   ],
   "source": [
    "def f(*args):\n",
    "    print(args)\n",
    "\n",
    "f(1,2,3,4,5,6,7)\n",
    "f(1,2,3)\n",
    "f()"
   ]
  },
  {
   "cell_type": "markdown",
   "id": "b02a35a9",
   "metadata": {},
   "source": [
    "Пример использования:"
   ]
  },
  {
   "cell_type": "code",
   "execution_count": 18,
   "id": "e755bc1b",
   "metadata": {},
   "outputs": [],
   "source": [
    "def f(*args):\n",
    "    s = 0\n",
    "    for i in args:\n",
    "        s += i\n",
    "    return s"
   ]
  },
  {
   "cell_type": "markdown",
   "id": "355481e0",
   "metadata": {},
   "source": [
    "Если мы хотим именнованные аргументы в неограниченном количестве зауинуть в функцию, то уже `**kwargs`"
   ]
  },
  {
   "cell_type": "code",
   "execution_count": 19,
   "id": "0d5abb61",
   "metadata": {},
   "outputs": [
    {
     "name": "stdout",
     "output_type": "stream",
     "text": [
      "{'a': 1, 'b': 2, 'c': 3}\n"
     ]
    }
   ],
   "source": [
    "def f(**kwargs):\n",
    "    print(kwargs)\n",
    "\n",
    "f(a=1,b=2,c=3)"
   ]
  },
  {
   "cell_type": "code",
   "execution_count": 22,
   "id": "d8591703",
   "metadata": {},
   "outputs": [
    {
     "name": "stdout",
     "output_type": "stream",
     "text": [
      "a 1\n",
      "b 2\n",
      "c 3\n",
      "name Maxim\n"
     ]
    }
   ],
   "source": [
    "def f(**kwargs):\n",
    "    for k, v in kwargs.items():\n",
    "        print(k,v)\n",
    "    \n",
    "f(a=1,b=2,c=3,name='Maxim')"
   ]
  },
  {
   "cell_type": "code",
   "execution_count": 23,
   "id": "771defe0",
   "metadata": {},
   "outputs": [
    {
     "name": "stdout",
     "output_type": "stream",
     "text": [
      "[1, 2, 3, 4, 5]\n",
      "1 2 3 4 5\n"
     ]
    }
   ],
   "source": [
    "a = [1,2,3,4,5]\n",
    "print(a)\n",
    "print(*a)"
   ]
  },
  {
   "cell_type": "markdown",
   "id": "fddd5509",
   "metadata": {},
   "source": [
    "---"
   ]
  },
  {
   "cell_type": "markdown",
   "id": "cc0ad69e",
   "metadata": {},
   "source": [
    "### `Public`, `protected`, `private` attributes and methods"
   ]
  },
  {
   "cell_type": "code",
   "execution_count": 1,
   "id": "ebbf73c1",
   "metadata": {},
   "outputs": [],
   "source": [
    "class BankAccount:\n",
    "\n",
    "    def __init__(self, name, balance, passwort):\n",
    "        self.__name = name\n",
    "        self.__balance = balance\n",
    "        self.__passwort = passwort\n",
    "\n",
    "    def print_public_data(self):\n",
    "        print(self.name, self.balance, self.passwort)   # public attrs\n",
    "\n",
    "    def print_protected_data(self):\n",
    "        print(self._name, self._balance, self._passwort) # ptotected\n",
    "\n",
    "    def print_private_data(self):\n",
    "        print(self.__name, self.__balance, self.__passwort) # private"
   ]
  },
  {
   "cell_type": "code",
   "execution_count": 2,
   "id": "9bc911a3",
   "metadata": {},
   "outputs": [
    {
     "name": "stdout",
     "output_type": "stream",
     "text": [
      "Bob 100000 2220019802\n",
      "['_BankAccount__balance', '_BankAccount__name', '_BankAccount__passwort', '__class__', '__delattr__', '__dict__', '__dir__', '__doc__', '__eq__', '__format__', '__ge__', '__getattribute__', '__gt__', '__hash__', '__init__', '__init_subclass__', '__le__', '__lt__', '__module__', '__ne__', '__new__', '__reduce__', '__reduce_ex__', '__repr__', '__setattr__', '__sizeof__', '__str__', '__subclasshook__', '__weakref__', 'print_private_data', 'print_protected_data', 'print_public_data']\n",
      "100000\n"
     ]
    }
   ],
   "source": [
    "account1 = BankAccount('Bob', 100000, 2220019802)\n",
    "account1.print_private_data()\n",
    "\n",
    "print(dir(account1))\n",
    "print(account1._BankAccount__balance)"
   ]
  },
  {
   "cell_type": "markdown",
   "id": "5ec11b1a",
   "metadata": {},
   "source": [
    "> Они нужны, если мы не хотим открывать доступ для всех. \n",
    "* **public** - для всех\n",
    "* **protected** - тоже для всех, но это как маркер прогерам, что лучше к нему не обращаться вне класса\n",
    "* **private** - запрещает обращаться вне класса к аттрибуду"
   ]
  },
  {
   "cell_type": "markdown",
   "id": "7cb90866",
   "metadata": {},
   "source": [
    "---"
   ]
  },
  {
   "cell_type": "markdown",
   "id": "fc073665",
   "metadata": {},
   "source": [
    "### `Property`. `getter-метод` и `scatter-метод`."
   ]
  },
  {
   "cell_type": "code",
   "execution_count": 3,
   "id": "e4b1d50c",
   "metadata": {},
   "outputs": [],
   "source": [
    "class BankAccount:\n",
    "\n",
    "    def __init__(self, name, balance):\n",
    "        self.name = name\n",
    "        self.__balance = balance\n",
    "\n",
    "    def get_balance(self):\n",
    "        return self.__balance\n",
    "\n",
    "    def set_balance(self, value):\n",
    "        if not isinstance(value, (int, float)):\n",
    "            raise ValueError('Баланс должен быть числом')\n",
    "        self.__balance = value              # мы не напрямую обращаемся к balance, а через методы внутри класса ( защита)\n",
    "\n",
    "    def delete_balance(self):\n",
    "        del self.__balance\n",
    "\n",
    "    # через get and set неудобно обращаться, поэтому существует property\n",
    "    balance = property(fget=get_balance,fset=set_balance,fdel=delete_balance)"
   ]
  },
  {
   "cell_type": "markdown",
   "id": "d73f3b76",
   "metadata": {},
   "source": [
    "> Через обычный set and get методы неудобно обращаться будет, поэтому прижумали property. Легче запись и обращение"
   ]
  },
  {
   "cell_type": "code",
   "execution_count": 4,
   "id": "d5461d9b",
   "metadata": {},
   "outputs": [
    {
     "data": {
      "text/plain": [
       "100"
      ]
     },
     "execution_count": 4,
     "metadata": {},
     "output_type": "execute_result"
    }
   ],
   "source": [
    "c = BankAccount('ne',100)\n",
    "c.balance"
   ]
  },
  {
   "cell_type": "code",
   "execution_count": 5,
   "id": "0def3e4c",
   "metadata": {},
   "outputs": [
    {
     "data": {
      "text/plain": [
       "123"
      ]
     },
     "execution_count": 5,
     "metadata": {},
     "output_type": "execute_result"
    }
   ],
   "source": [
    "c.balance = 123\n",
    "c.balance"
   ]
  },
  {
   "cell_type": "code",
   "execution_count": 7,
   "id": "f0e5190c",
   "metadata": {},
   "outputs": [],
   "source": [
    "del c.balance"
   ]
  },
  {
   "cell_type": "markdown",
   "id": "86b96eb0",
   "metadata": {},
   "source": [
    "### Example \n",
    "\n",
    "####  Создайте класс UserMail, у которого есть:\n",
    "\n",
    "**1.** конструктор __init__, принимающий 2 аргумента: логин и почтовый адрес. Их необходимо сохранить в экземпляр как атрибуты login и __email (обратите внимание, защищенный атрибут)\n",
    "\n",
    "**2.** метод геттер get_email, которое возвращает защищенный атрибут __email ;\n",
    "\n",
    "**3.** метод сеттер set_email, которое принимает в виде строки новую почту. Метод должен проверять, что в новой почте есть только один символ @ и после нее есть точка. Если данные условия выполняются, новая почта сохраняется в атрибут __email, в противном случае выведите сообщение \"Ошибочная почта\";\n",
    "\n",
    "**4.** создайте свойство email, у которого геттером будет метод get_email, а сеттером - метод set_email"
   ]
  },
  {
   "cell_type": "code",
   "execution_count": 2,
   "id": "43438b8c",
   "metadata": {},
   "outputs": [],
   "source": [
    "class UserMail:\n",
    "    def __init__(self, login, email):\n",
    "        self.login = login\n",
    "        self.__email = email\n",
    "\n",
    "    def get_email(self):\n",
    "        return self.__email\n",
    "\n",
    "    def set_email(self, email):\n",
    "        if not isinstance(email, str) or email.count('@') != 1 or not '.' in email[email.find('@'):]:\n",
    "            raise ValueError('Ошибочная почта')\n",
    "        self.__email = email\n",
    "\n",
    "    email = property(fset=set_email,fget=get_email)"
   ]
  },
  {
   "cell_type": "code",
   "execution_count": 3,
   "id": "7ca2c5e2",
   "metadata": {},
   "outputs": [
    {
     "data": {
      "text/plain": [
       "'prince@wait.you'"
      ]
     },
     "execution_count": 3,
     "metadata": {},
     "output_type": "execute_result"
    }
   ],
   "source": [
    "k = UserMail('belosnezhka', 'prince@wait.you')\n",
    "k.email  # prince@wait.you"
   ]
  },
  {
   "cell_type": "code",
   "execution_count": 6,
   "id": "e80eeff9",
   "metadata": {},
   "outputs": [
    {
     "data": {
      "text/plain": [
       "'prince@still.wait'"
      ]
     },
     "execution_count": 6,
     "metadata": {},
     "output_type": "execute_result"
    }
   ],
   "source": [
    "k.email = 'prince@still.wait'\n",
    "k.email  # prince@still.wait"
   ]
  },
  {
   "cell_type": "markdown",
   "id": "a400d9b9",
   "metadata": {},
   "source": [
    "---"
   ]
  },
  {
   "cell_type": "markdown",
   "id": "979e0974",
   "metadata": {},
   "source": [
    " **Декораторы** нужны, чтобы добавлять для функции новое поведение. (расширять ее функционал)\n",
    " \n",
    "\n",
    "(подробности в ролике: https://www.youtube.com/watch?v=Va-ovLxHmus)\n",
    "\n",
    "#### Example"
   ]
  },
  {
   "cell_type": "code",
   "execution_count": 24,
   "id": "22de66f8",
   "metadata": {},
   "outputs": [],
   "source": [
    "def header(func):\n",
    "    \n",
    "    def inner(*args, **kwargs):\n",
    "        print('<h1>')\n",
    "        func(*args, **kwargs)\n",
    "        print('</h1>')\n",
    "    \n",
    "    return inner\n",
    "\n",
    "def table(func):\n",
    "    \n",
    "    def inner(*args, **kwargs):\n",
    "        print('<table>')\n",
    "        func(*args, **kwargs)\n",
    "        print('</table>')\n",
    "    \n",
    "    return inner\n",
    "\n",
    "@header\n",
    "@table\n",
    "def say(name, surname, age):\n",
    "    print('hello', name, surname, age)"
   ]
  },
  {
   "cell_type": "markdown",
   "id": "983722b0",
   "metadata": {},
   "source": [
    "Есть функция say(), мы на нее вешаем декоратор и ее функционал расширяется "
   ]
  },
  {
   "cell_type": "code",
   "execution_count": 25,
   "id": "5a7430ca",
   "metadata": {},
   "outputs": [
    {
     "name": "stdout",
     "output_type": "stream",
     "text": [
      "<h1>\n",
      "<table>\n",
      "hello Maxim Kurseev 21\n",
      "</table>\n",
      "</h1>\n"
     ]
    }
   ],
   "source": [
    "say('Maxim','Kurseev',21)"
   ]
  },
  {
   "cell_type": "markdown",
   "id": "6af7fe68",
   "metadata": {},
   "source": [
    "---"
   ]
  },
  {
   "cell_type": "markdown",
   "id": "64a54c03",
   "metadata": {},
   "source": [
    "### Декоратор `property` \n",
    "\n",
    "(подробности в ролике: https://www.youtube.com/watch?v=qA1fUZevVxU)"
   ]
  },
  {
   "cell_type": "code",
   "execution_count": 73,
   "id": "4c8bbfe3",
   "metadata": {},
   "outputs": [],
   "source": [
    "class BankAccount:\n",
    "\n",
    "    def __init__(self, name, balance):\n",
    "        self.name = name\n",
    "        self.__balance = balance\n",
    "\n",
    "    @property    \n",
    "    def my_balance(self):\n",
    "        return self.__balance\n",
    "    \n",
    "    @my_balance.setter\n",
    "    def my_balance(self, value):\n",
    "        if not isinstance(value, (int, float)):\n",
    "            raise ValueError('Баланс должен быть числом')\n",
    "        self.__balance = value              # мы не напрямую обращаемся к balance, а через методы внутри класса ( защита)\n",
    "\n",
    "    @my_balance.deleter\n",
    "    def my_balance(self):\n",
    "        del self.__balance\n"
   ]
  },
  {
   "cell_type": "code",
   "execution_count": 77,
   "id": "e2fa8c33",
   "metadata": {},
   "outputs": [
    {
     "data": {
      "text/plain": [
       "100"
      ]
     },
     "execution_count": 77,
     "metadata": {},
     "output_type": "execute_result"
    }
   ],
   "source": [
    "a = BankAccount('Ivan',100)\n",
    "a.my_balance"
   ]
  },
  {
   "cell_type": "code",
   "execution_count": 78,
   "id": "3b12d8d7",
   "metadata": {},
   "outputs": [
    {
     "data": {
      "text/plain": [
       "1000"
      ]
     },
     "execution_count": 78,
     "metadata": {},
     "output_type": "execute_result"
    }
   ],
   "source": [
    "a.my_balance = 1000\n",
    "a.my_balance"
   ]
  },
  {
   "cell_type": "code",
   "execution_count": 79,
   "id": "58796537",
   "metadata": {},
   "outputs": [],
   "source": [
    "del a.my_balance"
   ]
  },
  {
   "cell_type": "markdown",
   "id": "81bbb2e7",
   "metadata": {},
   "source": [
    "#### Example:\n",
    "\n",
    "Создайте класс Money, у которого есть:\n",
    "\n",
    "1. конструктор `__init__`, принимающий 2 аргумента: `dollars`, `cents`. По входным аргументам вам необходимо создать атрибут экземпляра `total_cent`s. \n",
    "\n",
    "\n",
    "2. свойство геттер `dollars`, которое возвращает количество имеющихся долларов;\n",
    "\n",
    "\n",
    "3. свойство сеттер `dollars`, которое принимает целое неотрицательное число - количество долларов и устанавливает при помощи него новое значение в атрибут экземпляра `total_cents`, при этом значение центов должно сохранятся. В случае, если в сеттер передано число, не удовлетворяющее условию, нужно печатать на экран сообщение \"Error dollars\";\n",
    "\n",
    "\n",
    "4. свойство геттер `cents`, которое возвращает количество имеющихся центов;\n",
    "\n",
    "\n",
    "5. свойство сеттер `cents`, которое принимает целое неотрицательное число меньшее 100 - количество центов и устанавливает при помощи него новое значение в атрибут экземпляра `total_cents`, при этом значение долларов должно сохранятся. В случае, если в сеттер передано число, не удовлетворяющее условию, нужно печатать на экран сообщение \"Error cents\";\n",
    "\n",
    "\n",
    "6. метод `__str__` (информация по данному методу), который возвращает строку вида \"Ваше состояние составляет {dollars} долларов {cents} центов\". Для нахождения долларов и центов в методе `__str__` пользуйтесь свойствами"
   ]
  },
  {
   "cell_type": "code",
   "execution_count": 72,
   "id": "3e2aa209",
   "metadata": {},
   "outputs": [],
   "source": [
    "class Money:\n",
    "\n",
    "    def __init__(self,dollars, cents):\n",
    "        self.total_cents = dollars * 100 + cents\n",
    "\n",
    "    @property\n",
    "    def dollars(self):\n",
    "        return self.total_cents // 100\n",
    "\n",
    "    @dollars.setter\n",
    "    def dollars(self,value):\n",
    "        if isinstance(value, int) and value >= 0:\n",
    "            #self.total_cents = value * 100 + self.total_cents % 100\n",
    "            self.total_cents = value * 100 + self.cents\n",
    "        else:\n",
    "            print('Error dollars')\n",
    "\n",
    "    @property\n",
    "    def cents(self):\n",
    "        return self.total_cents % 100\n",
    "\n",
    "    @cents.setter\n",
    "    def cents(self, value):\n",
    "        if isinstance(value, int) and value >= 0 and value < 100:\n",
    "            self.total_cents = self.dollars * 100 + value\n",
    "        else:\n",
    "            print('Error cents')\n",
    "\n",
    "    def __str__(self):\n",
    "        return f'Ваше состояние составляет {self.dollars} долларов {self.cents} центов'"
   ]
  },
  {
   "cell_type": "markdown",
   "id": "bad019c3",
   "metadata": {},
   "source": [
    "___"
   ]
  }
 ],
 "metadata": {
  "kernelspec": {
   "display_name": "Python 3 (ipykernel)",
   "language": "python",
   "name": "python3"
  },
  "language_info": {
   "codemirror_mode": {
    "name": "ipython",
    "version": 3
   },
   "file_extension": ".py",
   "mimetype": "text/x-python",
   "name": "python",
   "nbconvert_exporter": "python",
   "pygments_lexer": "ipython3",
   "version": "3.8.11"
  }
 },
 "nbformat": 4,
 "nbformat_minor": 5
}
